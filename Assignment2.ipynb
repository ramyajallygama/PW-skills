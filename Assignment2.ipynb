{
 "cells": [
  {
   "cell_type": "code",
   "execution_count": 1,
   "id": "bc05ea44-631b-4eca-8465-d7358dc4690e",
   "metadata": {},
   "outputs": [
    {
     "data": {
      "text/plain": [
       "'Comments'"
      ]
     },
     "execution_count": 1,
     "metadata": {},
     "output_type": "execute_result"
    }
   ],
   "source": [
    "#One type of commenting\n",
    "#Multi line Comments\n",
    "# are here\n",
    "\"\"\" Comments are \n",
    "here\"\"\""
   ]
  },
  {
   "cell_type": "code",
   "execution_count": null,
   "id": "c3e830bb-adeb-4a8c-95d5-b980212b0a75",
   "metadata": {},
   "outputs": [],
   "source": [
    "#Variable assignemnts\n",
    "#Variables are containers to store data\n",
    "a=20\n",
    "b=56.5\n",
    "c=\"tom\"\n",
    "d=5+6j"
   ]
  },
  {
   "cell_type": "code",
   "execution_count": 2,
   "id": "39619d0b-e1cd-41ff-b131-a3d67bb34e70",
   "metadata": {},
   "outputs": [
    {
     "name": "stdin",
     "output_type": "stream",
     "text": [
      "Enter a number 6\n"
     ]
    },
    {
     "data": {
      "text/plain": [
       "5.0"
      ]
     },
     "execution_count": 2,
     "metadata": {},
     "output_type": "execute_result"
    }
   ],
   "source": [
    "#Convert one data type to another,below is converting string to int\n",
    "a=int(input(\"Enter a number\"))\n",
    "float(5)"
   ]
  },
  {
   "cell_type": "code",
   "execution_count": null,
   "id": "2951d053-9da9-4bd9-9756-ff528d8807c4",
   "metadata": {},
   "outputs": [],
   "source": [
    "#Open the command prompt\n",
    "#type python3\n",
    "#create python script\n",
    "#enter python scriptfilename,make sure full path is mentioned where script is available\n"
   ]
  },
  {
   "cell_type": "code",
   "execution_count": 3,
   "id": "74c7286d-e060-4335-8205-68c3ba3ac8d4",
   "metadata": {},
   "outputs": [
    {
     "name": "stdout",
     "output_type": "stream",
     "text": [
      "[2, 3]\n"
     ]
    }
   ],
   "source": [
    "my_list=[1,2,3,4,5]\n",
    "my_list=my_list[1:3]\n",
    "print(my_list)\n"
   ]
  },
  {
   "cell_type": "code",
   "execution_count": null,
   "id": "4f997cdc-5ce1-43ba-90b7-b54924ce3b95",
   "metadata": {},
   "outputs": [],
   "source": [
    "#Complex number is a number that can be denoted with a real number and imaginary number\n",
    "c=5+6j\n",
    "#5 is real and 6 is imaginary number"
   ]
  },
  {
   "cell_type": "code",
   "execution_count": 4,
   "id": "e72023b7-8dab-4d92-8c97-c9aa6e657fe9",
   "metadata": {},
   "outputs": [
    {
     "data": {
      "text/plain": [
       "float"
      ]
     },
     "execution_count": 4,
     "metadata": {},
     "output_type": "execute_result"
    }
   ],
   "source": [
    "age=25\n",
    "price=9.99\n",
    "type(price)"
   ]
  },
  {
   "cell_type": "code",
   "execution_count": 5,
   "id": "8748e753-ea35-487e-9e46-8f6963696844",
   "metadata": {},
   "outputs": [
    {
     "name": "stdout",
     "output_type": "stream",
     "text": [
      "Ramya\n"
     ]
    }
   ],
   "source": [
    "name=\"Ramya\"\n",
    "print(name)"
   ]
  },
  {
   "cell_type": "code",
   "execution_count": 7,
   "id": "dc432905-034b-4595-b6e8-e801978fa547",
   "metadata": {},
   "outputs": [
    {
     "data": {
      "text/plain": [
       "'World'"
      ]
     },
     "execution_count": 7,
     "metadata": {},
     "output_type": "execute_result"
    }
   ],
   "source": [
    "hello=\"Hello,World!\"\n",
    "hello[6:-1]"
   ]
  },
  {
   "cell_type": "code",
   "execution_count": 8,
   "id": "fd8556ad-fecd-46ae-b5e1-596867a6a077",
   "metadata": {},
   "outputs": [],
   "source": [
    "is_student=True"
   ]
  },
  {
   "cell_type": "code",
   "execution_count": null,
   "id": "46f11df6-7e0e-4349-a9a8-1c19391da8a4",
   "metadata": {},
   "outputs": [],
   "source": []
  }
 ],
 "metadata": {
  "kernelspec": {
   "display_name": "Python 3 (ipykernel)",
   "language": "python",
   "name": "python3"
  },
  "language_info": {
   "codemirror_mode": {
    "name": "ipython",
    "version": 3
   },
   "file_extension": ".py",
   "mimetype": "text/x-python",
   "name": "python",
   "nbconvert_exporter": "python",
   "pygments_lexer": "ipython3",
   "version": "3.10.8"
  }
 },
 "nbformat": 4,
 "nbformat_minor": 5
}

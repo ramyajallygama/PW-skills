{
 "cells": [
  {
   "cell_type": "code",
   "execution_count": 11,
   "id": "dd2d6cd6-5812-45ed-bfcb-aed9c2377643",
   "metadata": {},
   "outputs": [
    {
     "data": {
      "text/plain": [
       "[1, 4, 9, 16, 25, 36, 49, 64, 81, 100]"
      ]
     },
     "execution_count": 11,
     "metadata": {},
     "output_type": "execute_result"
    }
   ],
   "source": [
    "#Python program to findsquares of all numbers\n",
    "list(map(lambda x:x**2,l))"
   ]
  },
  {
   "cell_type": "code",
   "execution_count": 9,
   "id": "edf7fa96-5473-4b34-8519-83e664a77e23",
   "metadata": {},
   "outputs": [],
   "source": [
    "l=[1, 2, 3, 4, 5, 6, 7, 8, 9, 10]\n"
   ]
  },
  {
   "cell_type": "code",
   "execution_count": 12,
   "id": "106a6719-0c18-4ee7-bfff-cf9630773a8a",
   "metadata": {},
   "outputs": [
    {
     "data": {
      "text/plain": [
       "('1', '2', '3', '4', '5', '6', '7', '8', '9', '10')"
      ]
     },
     "execution_count": 12,
     "metadata": {},
     "output_type": "execute_result"
    }
   ],
   "source": [
    "#Python program to convert given list of integers to tuple of strings\n",
    "tuple(map(lambda x:str(x),l))"
   ]
  },
  {
   "cell_type": "code",
   "execution_count": 14,
   "id": "5e32e897-f01d-4d68-bed7-38f953162058",
   "metadata": {},
   "outputs": [
    {
     "data": {
      "text/plain": [
       "15511210043330985984000000"
      ]
     },
     "execution_count": 14,
     "metadata": {},
     "output_type": "execute_result"
    }
   ],
   "source": [
    "#Python program using reduce function to compute product of list containing number 1 to 25\n",
    "from functools import reduce\n",
    "reduce(lambda x,y:x*y,prd)"
   ]
  },
  {
   "cell_type": "code",
   "execution_count": 13,
   "id": "0b0805fd-7fb6-4ef5-9d36-c8006d01e5c6",
   "metadata": {},
   "outputs": [],
   "source": [
    "prd=[1,2,3,4,5,6,7,8,9,10,11,12,13,14,15,16,17,18,19,20,21,22,23,24,25]"
   ]
  },
  {
   "cell_type": "code",
   "execution_count": 21,
   "id": "a411da96-2858-42e4-8925-1b9344039d57",
   "metadata": {},
   "outputs": [],
   "source": [
    "fil=[2, 3, 6, 9, 27, 60, 90, 120, 55, 46]"
   ]
  },
  {
   "cell_type": "markdown",
   "id": "68106385-1b70-4ac4-974e-d7382dee82eb",
   "metadata": {},
   "source": [
    "Program to filter the list divisible by 2 and 3   "
   ]
  },
  {
   "cell_type": "code",
   "execution_count": 20,
   "id": "0e497cc6-20d9-4155-b2ce-1cf2c2d25152",
   "metadata": {},
   "outputs": [
    {
     "data": {
      "text/plain": [
       "[6, 60, 90, 120]"
      ]
     },
     "execution_count": 20,
     "metadata": {},
     "output_type": "execute_result"
    }
   ],
   "source": [
    "list(filter(lambda x:x%2==0 and x%3==0,fil))"
   ]
  },
  {
   "cell_type": "code",
   "execution_count": 22,
   "id": "67071acd-e868-43a6-af60-36c5dcc46be2",
   "metadata": {},
   "outputs": [],
   "source": [
    "pal=['python', 'php', 'aba', 'radar', 'level']"
   ]
  },
  {
   "cell_type": "code",
   "execution_count": 32,
   "id": "46d599e9-b1af-40dc-9b50-198d4540dd12",
   "metadata": {},
   "outputs": [
    {
     "data": {
      "text/plain": [
       "['php', 'aba', 'radar', 'level']"
      ]
     },
     "execution_count": 32,
     "metadata": {},
     "output_type": "execute_result"
    }
   ],
   "source": [
    "#Program to find palindormes using filter and lambda\n",
    "list(filter(lambda p:p[::-1]==p,pal))"
   ]
  },
  {
   "cell_type": "code",
   "execution_count": 37,
   "id": "10dfb4b8-9615-4b83-95e8-b85ccae30c09",
   "metadata": {},
   "outputs": [],
   "source": [
    "#Sort tuples using lambda\n",
    "cri=[('Sachin Tendulkar', 34357), ('Ricky Ponting', 27483), ('Jack Kallis', 25534), ('Virat Kohli', 24936)]"
   ]
  },
  {
   "cell_type": "code",
   "execution_count": 43,
   "id": "7ecccff7-d133-4a2f-8efe-cf63aed576c9",
   "metadata": {},
   "outputs": [],
   "source": [
    "sorted_cricket_and_nums = sorted(cri,key=lambda x : x[1])"
   ]
  },
  {
   "cell_type": "code",
   "execution_count": 44,
   "id": "0f898427-ecca-4b20-bc0e-712f83187ff2",
   "metadata": {},
   "outputs": [
    {
     "name": "stdout",
     "output_type": "stream",
     "text": [
      "[('Virat Kohli', 24936), ('Jack Kallis', 25534), ('Ricky Ponting', 27483), ('Sachin Tendulkar', 34357)]\n"
     ]
    }
   ],
   "source": [
    "print(sorted_cricket_and_nums)"
   ]
  },
  {
   "cell_type": "code",
   "execution_count": null,
   "id": "d4248588-6d79-4cbc-bf4e-569d41833d93",
   "metadata": {},
   "outputs": [],
   "source": []
  }
 ],
 "metadata": {
  "kernelspec": {
   "display_name": "Python 3 (ipykernel)",
   "language": "python",
   "name": "python3"
  },
  "language_info": {
   "codemirror_mode": {
    "name": "ipython",
    "version": 3
   },
   "file_extension": ".py",
   "mimetype": "text/x-python",
   "name": "python",
   "nbconvert_exporter": "python",
   "pygments_lexer": "ipython3",
   "version": "3.10.8"
  }
 },
 "nbformat": 4,
 "nbformat_minor": 5
}

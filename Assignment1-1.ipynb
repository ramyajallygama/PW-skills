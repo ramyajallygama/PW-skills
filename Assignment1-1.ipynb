{
 "cells": [
  {
   "cell_type": "code",
   "execution_count": 4,
   "id": "30f48428-1ff9-471e-8745-75f19708f8a8",
   "metadata": {},
   "outputs": [
    {
     "name": "stdin",
     "output_type": "stream",
     "text": [
      "Enter a number 9\n",
      "Enter b number 3\n"
     ]
    },
    {
     "name": "stdout",
     "output_type": "stream",
     "text": [
      "9  is divisible by 3\n",
      "9  is divisible by 3 _ 3.0 times\n"
     ]
    }
   ],
   "source": [
    "a=int(input(\"Enter a number\"))\n",
    "b=int(input(\"Enter b number\"))\n",
    "while(a>b):\n",
    "    if a%b==0:\n",
    "        print(a,\" is divisible by\",b)\n",
    "        print(a,\" is divisible by\",b,\"_\",a/b,\"times\")\n",
    "        break;\n",
    "    else:\n",
    "        print(\"a is not divisible by b\")"
   ]
  },
  {
   "cell_type": "code",
   "execution_count": 2,
   "id": "9261c5ad-74cb-491c-a9c3-1435090e7149",
   "metadata": {},
   "outputs": [
    {
     "name": "stdout",
     "output_type": "stream",
     "text": [
      "1 is not disible by 3\n",
      "2 is not disible by 3\n",
      "3 divsible by 3\n",
      "4 is not disible by 3\n",
      "5 is not disible by 3\n",
      "56 is not disible by 3\n",
      "7 is not disible by 3\n",
      "8 is not disible by 3\n",
      "9 divsible by 3\n",
      "10 is not disible by 3\n",
      "11 is not disible by 3\n",
      "12 divsible by 3\n",
      "13 is not disible by 3\n",
      "14 is not disible by 3\n",
      "15 divsible by 3\n",
      "16 is not disible by 3\n",
      "17 is not disible by 3\n",
      "18 divsible by 3\n",
      "191 is not disible by 3\n",
      "20 is not disible by 3\n",
      "21 divsible by 3\n",
      "22 is not disible by 3\n",
      "23 is not disible by 3\n",
      "24 divsible by 3\n",
      "25 is not disible by 3\n"
     ]
    }
   ],
   "source": [
    "li=[1,2,3,4,5,56,7,8,9,10,11,12,13,14,15,16,17,18,191,20,21,22,23,24,25]\n",
    "for i in range(0,25):\n",
    "    if li[i]%3==0:\n",
    "        print(li[i],\"divsible by 3\")\n",
    "    else:\n",
    "        print(li[i],\"is not disible by 3\")"
   ]
  },
  {
   "cell_type": "code",
   "execution_count": 5,
   "id": "65d50259-b574-40f2-b5cb-5a9d8088aa11",
   "metadata": {},
   "outputs": [
    {
     "ename": "TypeError",
     "evalue": "'set' object does not support item assignment",
     "output_type": "error",
     "traceback": [
      "\u001b[0;31m---------------------------------------------------------------------------\u001b[0m",
      "\u001b[0;31mTypeError\u001b[0m                                 Traceback (most recent call last)",
      "Cell \u001b[0;32mIn[5], line 5\u001b[0m\n\u001b[1;32m      1\u001b[0m \u001b[38;5;66;03m#Mutable datatypes can be changed and immutable objects cannot be changed\u001b[39;00m\n\u001b[1;32m      2\u001b[0m \u001b[38;5;66;03m#List is a mutable object and tuple datatype is a immutable object.\u001b[39;00m\n\u001b[1;32m      3\u001b[0m \u001b[38;5;66;03m#here is the immutable example\u001b[39;00m\n\u001b[1;32m      4\u001b[0m tup\u001b[38;5;241m=\u001b[39m{\u001b[38;5;241m1\u001b[39m,\u001b[38;5;241m2\u001b[39m,\u001b[38;5;241m3\u001b[39m,\u001b[38;5;241m4\u001b[39m}\n\u001b[0;32m----> 5\u001b[0m \u001b[43mtup\u001b[49m\u001b[43m[\u001b[49m\u001b[38;5;241;43m1\u001b[39;49m\u001b[43m]\u001b[49m\u001b[38;5;241m=\u001b[39m\u001b[38;5;241m8\u001b[39m\n\u001b[1;32m      6\u001b[0m \u001b[38;5;28mprint\u001b[39m(tup[\u001b[38;5;241m1\u001b[39m])\n",
      "\u001b[0;31mTypeError\u001b[0m: 'set' object does not support item assignment"
     ]
    }
   ],
   "source": [
    "#Mutable datatypes can be changed and immutable objects cannot be changed\n",
    "#List is a mutable object and tuple datatype is a immutable object.\n",
    "#here is the immutable example\n",
    "tup={1,2,3,4}\n",
    "tup[1]=8\n",
    "print(tup[1])"
   ]
  },
  {
   "cell_type": "code",
   "execution_count": 8,
   "id": "66c1a71d-c58e-4cc8-b724-c8a57a6f1b7a",
   "metadata": {},
   "outputs": [
    {
     "name": "stdout",
     "output_type": "stream",
     "text": [
      "9\n",
      "[2, 4, 9]\n"
     ]
    }
   ],
   "source": [
    "#Mutable datatype exmaple\n",
    "li1=[2,4,5]\n",
    "li1[2]=9\n",
    "print(li1[2])\n",
    "print(li1)"
   ]
  },
  {
   "cell_type": "code",
   "execution_count": null,
   "id": "9da3021c-b707-418c-89b3-b308ecf0aa9d",
   "metadata": {},
   "outputs": [],
   "source": []
  }
 ],
 "metadata": {
  "kernelspec": {
   "display_name": "Python 3 (ipykernel)",
   "language": "python",
   "name": "python3"
  },
  "language_info": {
   "codemirror_mode": {
    "name": "ipython",
    "version": 3
   },
   "file_extension": ".py",
   "mimetype": "text/x-python",
   "name": "python",
   "nbconvert_exporter": "python",
   "pygments_lexer": "ipython3",
   "version": "3.10.8"
  },
  "toc-autonumbering": true
 },
 "nbformat": 4,
 "nbformat_minor": 5
}

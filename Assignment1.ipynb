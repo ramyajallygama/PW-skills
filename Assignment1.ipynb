{
 "cells": [
  {
   "cell_type": "code",
   "execution_count": null,
   "id": "493f3586-3566-4954-9f56-aa886feebb72",
   "metadata": {},
   "outputs": [],
   "source": [
    "#String Variable\n",
    "name_str=\"Ram\"\n"
   ]
  },
  {
   "cell_type": "code",
   "execution_count": null,
   "id": "a8aab01e-d8f2-478d-a42b-9ed5150bfd22",
   "metadata": {},
   "outputs": [],
   "source": [
    "#List Variable\n",
    "li=[1,2,3,b]"
   ]
  },
  {
   "cell_type": "code",
   "execution_count": null,
   "id": "a66bc584-72d1-4709-b1a4-208d505b1861",
   "metadata": {},
   "outputs": [],
   "source": [
    "#Float Variable\n",
    "fl=2.45"
   ]
  },
  {
   "cell_type": "code",
   "execution_count": null,
   "id": "3c19134f-8acb-4f54-9c32-680ed489906a",
   "metadata": {},
   "outputs": [],
   "source": [
    "#Tuple variable\n",
    "tup=(1,2,3)"
   ]
  },
  {
   "cell_type": "code",
   "execution_count": 3,
   "id": "86546419-ce66-46a2-b20c-73b02c392cf9",
   "metadata": {},
   "outputs": [
    {
     "ename": "SyntaxError",
     "evalue": "invalid character '‘' (U+2018) (3637756185.py, line 1)",
     "output_type": "error",
     "traceback": [
      "\u001b[0;36m  Cell \u001b[0;32mIn[3], line 1\u001b[0;36m\u001b[0m\n\u001b[0;31m    var1 = ‘  ‘\u001b[0m\n\u001b[0m           ^\u001b[0m\n\u001b[0;31mSyntaxError\u001b[0m\u001b[0;31m:\u001b[0m invalid character '‘' (U+2018)\n"
     ]
    }
   ],
   "source": [
    "var1 = ‘ ‘\n",
    "print(type(var1))"
   ]
  },
  {
   "cell_type": "code",
   "execution_count": 4,
   "id": "3ce9f6b0-1eb7-4c1b-a6e4-77aec19cde27",
   "metadata": {},
   "outputs": [
    {
     "ename": "SyntaxError",
     "evalue": "invalid character '‘' (U+2018) (478397657.py, line 1)",
     "output_type": "error",
     "traceback": [
      "\u001b[0;36m  Cell \u001b[0;32mIn[4], line 1\u001b[0;36m\u001b[0m\n\u001b[0;31m    var2 = ‘[ DS , ML , Python]’\u001b[0m\n\u001b[0m           ^\u001b[0m\n\u001b[0;31mSyntaxError\u001b[0m\u001b[0;31m:\u001b[0m invalid character '‘' (U+2018)\n"
     ]
    }
   ],
   "source": [
    "var2 = ‘[ DS , ML , Python]’\n",
    "print(type(var2))"
   ]
  },
  {
   "cell_type": "code",
   "execution_count": 5,
   "id": "d3fc508f-0cee-4ce3-80c8-f0a4bc34723f",
   "metadata": {},
   "outputs": [
    {
     "ename": "SyntaxError",
     "evalue": "invalid character '‘' (U+2018) (1814995269.py, line 1)",
     "output_type": "error",
     "traceback": [
      "\u001b[0;36m  Cell \u001b[0;32mIn[5], line 1\u001b[0;36m\u001b[0m\n\u001b[0;31m    var3 = [ ‘DS’ , ’ML’ , ‘Python’ ]\u001b[0m\n\u001b[0m             ^\u001b[0m\n\u001b[0;31mSyntaxError\u001b[0m\u001b[0;31m:\u001b[0m invalid character '‘' (U+2018)\n"
     ]
    }
   ],
   "source": [
    "var3 = [ ‘DS’ , ’ML’ , ‘Python’ ]\n",
    "print(type(var3))"
   ]
  },
  {
   "cell_type": "code",
   "execution_count": 6,
   "id": "13272a2f-d6ac-4bf4-8deb-9e6d0fcaf729",
   "metadata": {},
   "outputs": [
    {
     "name": "stdout",
     "output_type": "stream",
     "text": [
      "<class 'float'>\n"
     ]
    }
   ],
   "source": [
    "var4 = 1.\n",
    "print(type(var4))"
   ]
  },
  {
   "cell_type": "code",
   "execution_count": 7,
   "id": "5163fb38-ba93-446c-a5b6-50a9f48a2eb4",
   "metadata": {},
   "outputs": [
    {
     "name": "stdout",
     "output_type": "stream",
     "text": [
      "1.0\n"
     ]
    }
   ],
   "source": [
    "#/ Operator\n",
    "a=2\n",
    "b=2\n",
    "print(a/b)"
   ]
  },
  {
   "cell_type": "code",
   "execution_count": 8,
   "id": "2f18281a-b088-415a-8976-48e8e6786c81",
   "metadata": {},
   "outputs": [
    {
     "name": "stdout",
     "output_type": "stream",
     "text": [
      "0\n"
     ]
    }
   ],
   "source": [
    "# % Operator\n",
    "a=2\n",
    "b=2\n",
    "print(a%b)"
   ]
  },
  {
   "cell_type": "code",
   "execution_count": 9,
   "id": "4c418637-0ea8-4157-9d41-65f5b1937e53",
   "metadata": {},
   "outputs": [
    {
     "name": "stdout",
     "output_type": "stream",
     "text": [
      "1\n"
     ]
    }
   ],
   "source": [
    "# // Operator\n",
    "a=5\n",
    "b=3\n",
    "print(a//b)"
   ]
  },
  {
   "cell_type": "code",
   "execution_count": 10,
   "id": "961e28cb-573a-416d-bfa2-542ea2a1f98c",
   "metadata": {},
   "outputs": [
    {
     "name": "stdout",
     "output_type": "stream",
     "text": [
      "8\n"
     ]
    }
   ],
   "source": [
    "# ** operator\n",
    "a=2\n",
    "b=3\n",
    "print(a**b)"
   ]
  },
  {
   "cell_type": "code",
   "execution_count": 16,
   "id": "1df7d335-9690-427f-9c31-09cfba84b37b",
   "metadata": {},
   "outputs": [
    {
     "name": "stdout",
     "output_type": "stream",
     "text": [
      "5\n",
      "<class 'int'>\n",
      "4\n",
      "<class 'int'>\n",
      "2.5\n",
      "<class 'float'>\n",
      "Ram\n",
      "<class 'str'>\n",
      "(3+4j)\n",
      "<class 'complex'>\n",
      "False\n",
      "<class 'bool'>\n",
      "3\n",
      "<class 'int'>\n",
      "8.5\n",
      "<class 'float'>\n",
      "2\n",
      "<class 'int'>\n",
      "Sita\n",
      "<class 'str'>\n"
     ]
    }
   ],
   "source": [
    "#Create list of 10\n",
    "l10=[5,4,2.5,\"Ram\",3+4j,False,3,8.5,a,\"Sita\"]\n",
    "\n",
    "#for loop to print the element and its datatype\n",
    "for l in l10:\n",
    "    print(l)\n",
    "    print(type(l))\n",
    "    \n",
    "\n"
   ]
  }
 ],
 "metadata": {
  "kernelspec": {
   "display_name": "Python 3 (ipykernel)",
   "language": "python",
   "name": "python3"
  },
  "language_info": {
   "codemirror_mode": {
    "name": "ipython",
    "version": 3
   },
   "file_extension": ".py",
   "mimetype": "text/x-python",
   "name": "python",
   "nbconvert_exporter": "python",
   "pygments_lexer": "ipython3",
   "version": "3.10.8"
  }
 },
 "nbformat": 4,
 "nbformat_minor": 5
}

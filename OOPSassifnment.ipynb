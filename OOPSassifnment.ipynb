{
 "cells": [
  {
   "cell_type": "code",
   "execution_count": 1,
   "id": "a716c427-3d19-4c95-9843-bd769f833b8d",
   "metadata": {},
   "outputs": [],
   "source": [
    "#A class is a bluprint created by user from where objects can be created.An object is an instance of class\n",
    "class Animal:\n",
    "    def Animalnames(self,animalname):\n",
    "        self.animalname=animalname\n",
    "        "
   ]
  },
  {
   "cell_type": "code",
   "execution_count": 4,
   "id": "edd823c7-f52e-4f58-a09a-92737dc76910",
   "metadata": {},
   "outputs": [],
   "source": [
    "#Object Creation\n",
    "an=Animal()"
   ]
  },
  {
   "cell_type": "code",
   "execution_count": 7,
   "id": "c214eb9c-51d0-4dd6-b7a2-867a78fcb31b",
   "metadata": {},
   "outputs": [],
   "source": [
    "#Calling an Instance method using an object\n",
    "an.Animalnames(\"dog\")"
   ]
  },
  {
   "cell_type": "code",
   "execution_count": 9,
   "id": "e8382b3b-4a1b-4724-85ed-b44c0313287f",
   "metadata": {},
   "outputs": [
    {
     "data": {
      "text/plain": [
       "'dog'"
      ]
     },
     "execution_count": 9,
     "metadata": {},
     "output_type": "execute_result"
    }
   ],
   "source": [
    "an.animalname"
   ]
  },
  {
   "cell_type": "code",
   "execution_count": 10,
   "id": "4c5e3236-13e1-4b87-9ab1-4157d401b900",
   "metadata": {},
   "outputs": [],
   "source": [
    "#Fourpillars of OOPS are Encapsulation,Inheritance,Abstraction,Polymorphism"
   ]
  },
  {
   "cell_type": "code",
   "execution_count": 11,
   "id": "75d1d3fb-8c08-4fcc-a63e-c82822b0cb78",
   "metadata": {},
   "outputs": [],
   "source": [
    "#__init__ method\n",
    "class studentDetails:\n",
    "    def __init__(self,name,age,grade):\n",
    "        self.name=name\n",
    "        self.age=age\n",
    "        self.grade=grade\n",
    "        "
   ]
  },
  {
   "cell_type": "code",
   "execution_count": 13,
   "id": "f4257241-ad74-4197-9a75-bbbaa8b6b7f1",
   "metadata": {},
   "outputs": [],
   "source": [
    "sd=studentDetails(\"Ram\",26,\"first\")"
   ]
  },
  {
   "cell_type": "code",
   "execution_count": 14,
   "id": "afcc691d-6fae-4819-bab9-0c0b450698b3",
   "metadata": {},
   "outputs": [
    {
     "data": {
      "text/plain": [
       "'Ram'"
      ]
     },
     "execution_count": 14,
     "metadata": {},
     "output_type": "execute_result"
    }
   ],
   "source": [
    "sd.name"
   ]
  },
  {
   "cell_type": "code",
   "execution_count": 16,
   "id": "9b4318ed-cbdb-40ef-9938-cc71e6e05d20",
   "metadata": {},
   "outputs": [
    {
     "data": {
      "text/plain": [
       "'first'"
      ]
     },
     "execution_count": 16,
     "metadata": {},
     "output_type": "execute_result"
    }
   ],
   "source": [
    "\n",
    "sd.grade"
   ]
  },
  {
   "cell_type": "code",
   "execution_count": 17,
   "id": "37ab6723-54e9-446f-a8f2-0692552af4f9",
   "metadata": {},
   "outputs": [
    {
     "data": {
      "text/plain": [
       "26"
      ]
     },
     "execution_count": 17,
     "metadata": {},
     "output_type": "execute_result"
    }
   ],
   "source": [
    "sd.age"
   ]
  },
  {
   "cell_type": "code",
   "execution_count": 18,
   "id": "398b96be-3b2e-4ce5-aad5-87ce82feb98c",
   "metadata": {},
   "outputs": [],
   "source": [
    "#self represents instance of class,it bind the methods and variables to method"
   ]
  },
  {
   "cell_type": "code",
   "execution_count": 20,
   "id": "140e29f9-168a-4093-9b5e-dc4da5351102",
   "metadata": {},
   "outputs": [],
   "source": [
    "#Inheritance allows you to get the properties from another class.There are single inheritance,multiple inheritance,multilevel inheritance,hierarchical inheritance,hybrid inheritance"
   ]
  },
  {
   "cell_type": "code",
   "execution_count": 32,
   "id": "d8d2c349-9eb4-49e5-b418-05f7625c976b",
   "metadata": {},
   "outputs": [],
   "source": [
    "#Single Inheritance\n",
    "class Person:\n",
    "    def displayperson(self,name):\n",
    "        self.name=name\n",
    "        return name\n",
    "\n",
    "    "
   ]
  },
  {
   "cell_type": "code",
   "execution_count": 33,
   "id": "193240bd-eebb-4c80-902c-c39970bf8724",
   "metadata": {},
   "outputs": [],
   "source": [
    "class Employee(Person):\n",
    "    def employee(self,employeename):\n",
    "        return \"I am an employee\"\n"
   ]
  },
  {
   "cell_type": "code",
   "execution_count": 34,
   "id": "18834f8b-6e65-4e15-a729-e6eaf15e2c43",
   "metadata": {},
   "outputs": [],
   "source": [
    "emp=Employee()\n"
   ]
  },
  {
   "cell_type": "code",
   "execution_count": 35,
   "id": "3fd42943-f95d-46bd-b155-1b643f899aa1",
   "metadata": {},
   "outputs": [
    {
     "data": {
      "text/plain": [
       "'Rams'"
      ]
     },
     "execution_count": 35,
     "metadata": {},
     "output_type": "execute_result"
    }
   ],
   "source": [
    "emp.displayperson(\"Rams\")"
   ]
  },
  {
   "cell_type": "code",
   "execution_count": 36,
   "id": "891c312f-7866-4af6-83a1-9c15f8f4604d",
   "metadata": {},
   "outputs": [
    {
     "data": {
      "text/plain": [
       "'I am an employee'"
      ]
     },
     "execution_count": 36,
     "metadata": {},
     "output_type": "execute_result"
    }
   ],
   "source": [
    "emp.employee(\"Rams\")\n"
   ]
  },
  {
   "cell_type": "code",
   "execution_count": null,
   "id": "58c7efcb-2865-4bb6-98cd-d2eafb148f6d",
   "metadata": {},
   "outputs": [],
   "source": []
  }
 ],
 "metadata": {
  "kernelspec": {
   "display_name": "Python 3 (ipykernel)",
   "language": "python",
   "name": "python3"
  },
  "language_info": {
   "codemirror_mode": {
    "name": "ipython",
    "version": 3
   },
   "file_extension": ".py",
   "mimetype": "text/x-python",
   "name": "python",
   "nbconvert_exporter": "python",
   "pygments_lexer": "ipython3",
   "version": "3.10.8"
  }
 },
 "nbformat": 4,
 "nbformat_minor": 5
}
